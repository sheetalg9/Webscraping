{
 "cells": [
  {
   "cell_type": "markdown",
   "id": "92a5175b",
   "metadata": {},
   "source": [
    "# Data Cleaning"
   ]
  },
  {
   "cell_type": "code",
   "execution_count": 24,
   "id": "ac7cba90",
   "metadata": {},
   "outputs": [
    {
     "data": {
      "text/html": [
       "<div>\n",
       "<style scoped>\n",
       "    .dataframe tbody tr th:only-of-type {\n",
       "        vertical-align: middle;\n",
       "    }\n",
       "\n",
       "    .dataframe tbody tr th {\n",
       "        vertical-align: top;\n",
       "    }\n",
       "\n",
       "    .dataframe thead th {\n",
       "        text-align: right;\n",
       "    }\n",
       "</style>\n",
       "<table border=\"1\" class=\"dataframe\">\n",
       "  <thead>\n",
       "    <tr style=\"text-align: right;\">\n",
       "      <th></th>\n",
       "      <th>Unnamed: 0</th>\n",
       "      <th>movie_names</th>\n",
       "      <th>release_year</th>\n",
       "      <th>movie_runtime</th>\n",
       "      <th>movie_genre</th>\n",
       "      <th>movie_rating</th>\n",
       "      <th>movie_ranking</th>\n",
       "      <th>Movie_Director</th>\n",
       "      <th>Movie_Stars</th>\n",
       "      <th>metascore</th>\n",
       "      <th>votes</th>\n",
       "      <th>Gross</th>\n",
       "    </tr>\n",
       "  </thead>\n",
       "  <tbody>\n",
       "    <tr>\n",
       "      <th>0</th>\n",
       "      <td>0</td>\n",
       "      <td>Elvis</td>\n",
       "      <td>2022</td>\n",
       "      <td>159 min</td>\n",
       "      <td>Biography, Drama, Music</td>\n",
       "      <td>7.8</td>\n",
       "      <td>1.0</td>\n",
       "      <td>Baz Luhrmann</td>\n",
       "      <td>Tom Hanks,  Austin Butler,  Olivia DeJonge,  H...</td>\n",
       "      <td>64.0</td>\n",
       "      <td>28,197</td>\n",
       "      <td>NaN</td>\n",
       "    </tr>\n",
       "    <tr>\n",
       "      <th>1</th>\n",
       "      <td>1</td>\n",
       "      <td>Top Gun: Maverick</td>\n",
       "      <td>2022</td>\n",
       "      <td>130 min</td>\n",
       "      <td>Action, Drama</td>\n",
       "      <td>8.6</td>\n",
       "      <td>2.0</td>\n",
       "      <td>Joseph Kosinski</td>\n",
       "      <td>Tom Cruise,  Jennifer Connelly,  Miles Teller,...</td>\n",
       "      <td>78.0</td>\n",
       "      <td>213,829</td>\n",
       "      <td>NaN</td>\n",
       "    </tr>\n",
       "    <tr>\n",
       "      <th>2</th>\n",
       "      <td>2</td>\n",
       "      <td>Everything Everywhere All at Once</td>\n",
       "      <td>2022</td>\n",
       "      <td>139 min</td>\n",
       "      <td>Action, Adventure, Comedy</td>\n",
       "      <td>8.3</td>\n",
       "      <td>3.0</td>\n",
       "      <td>Dan Kwan,  Daniel Scheinert</td>\n",
       "      <td>Michelle Yeoh,  Stephanie Hsu,  Ke Huy Quan,  ...</td>\n",
       "      <td>81.0</td>\n",
       "      <td>137,086</td>\n",
       "      <td>NaN</td>\n",
       "    </tr>\n",
       "  </tbody>\n",
       "</table>\n",
       "</div>"
      ],
      "text/plain": [
       "   Unnamed: 0                        movie_names release_year movie_runtime  \\\n",
       "0           0                              Elvis         2022       159 min   \n",
       "1           1                  Top Gun: Maverick         2022       130 min   \n",
       "2           2  Everything Everywhere All at Once         2022       139 min   \n",
       "\n",
       "                 movie_genre  movie_rating  movie_ranking  \\\n",
       "0    Biography, Drama, Music           7.8            1.0   \n",
       "1              Action, Drama           8.6            2.0   \n",
       "2  Action, Adventure, Comedy           8.3            3.0   \n",
       "\n",
       "                Movie_Director  \\\n",
       "0                 Baz Luhrmann   \n",
       "1              Joseph Kosinski   \n",
       "2  Dan Kwan,  Daniel Scheinert   \n",
       "\n",
       "                                         Movie_Stars  metascore    votes  \\\n",
       "0  Tom Hanks,  Austin Butler,  Olivia DeJonge,  H...       64.0   28,197   \n",
       "1  Tom Cruise,  Jennifer Connelly,  Miles Teller,...       78.0  213,829   \n",
       "2  Michelle Yeoh,  Stephanie Hsu,  Ke Huy Quan,  ...       81.0  137,086   \n",
       "\n",
       "   Gross  \n",
       "0    NaN  \n",
       "1    NaN  \n",
       "2    NaN  "
      ]
     },
     "execution_count": 24,
     "metadata": {},
     "output_type": "execute_result"
    }
   ],
   "source": [
    "import numpy as np\n",
    "import pandas as pd\n",
    "import seaborn as sns\n",
    "Imdb = pd.read_csv(r'C:\\Users\\HP\\Data_Science_Course\\01 PYTHON PROGRAMMING\\Datasets\\Imdb.csv')\n",
    "Imdb.head(3)"
   ]
  },
  {
   "cell_type": "code",
   "execution_count": 25,
   "id": "be63928d",
   "metadata": {},
   "outputs": [
    {
     "name": "stdout",
     "output_type": "stream",
     "text": [
      "<class 'pandas.core.frame.DataFrame'>\n",
      "RangeIndex: 650 entries, 0 to 649\n",
      "Data columns (total 12 columns):\n",
      " #   Column          Non-Null Count  Dtype  \n",
      "---  ------          --------------  -----  \n",
      " 0   Unnamed: 0      650 non-null    int64  \n",
      " 1   movie_names     650 non-null    object \n",
      " 2   release_year    650 non-null    object \n",
      " 3   movie_runtime   650 non-null    object \n",
      " 4   movie_genre     650 non-null    object \n",
      " 5   movie_rating    650 non-null    float64\n",
      " 6   movie_ranking   650 non-null    float64\n",
      " 7   Movie_Director  650 non-null    object \n",
      " 8   Movie_Stars     650 non-null    object \n",
      " 9   metascore       623 non-null    float64\n",
      " 10  votes           650 non-null    object \n",
      " 11  Gross           589 non-null    float64\n",
      "dtypes: float64(4), int64(1), object(7)\n",
      "memory usage: 61.1+ KB\n"
     ]
    }
   ],
   "source": [
    "Imdb.info()"
   ]
  },
  {
   "cell_type": "code",
   "execution_count": 26,
   "id": "439a0bbd",
   "metadata": {},
   "outputs": [
    {
     "data": {
      "text/plain": [
       "(650, 12)"
      ]
     },
     "execution_count": 26,
     "metadata": {},
     "output_type": "execute_result"
    }
   ],
   "source": [
    "Imdb.shape"
   ]
  },
  {
   "cell_type": "code",
   "execution_count": 27,
   "id": "21e013f8",
   "metadata": {},
   "outputs": [
    {
     "data": {
      "text/plain": [
       "'159'"
      ]
     },
     "execution_count": 27,
     "metadata": {},
     "output_type": "execute_result"
    }
   ],
   "source": [
    "# cleaning movie_runtime column \n",
    "\n",
    "import re\n",
    "a = re.findall(r'(\\d+)',Imdb.movie_runtime[0])\n",
    "a[0]"
   ]
  },
  {
   "cell_type": "code",
   "execution_count": 28,
   "id": "e36cbc66",
   "metadata": {},
   "outputs": [],
   "source": [
    "#Imdb.movie_runtime = Imdb.movie_runtime.apply(lambda i: re.findall(r'(\\d+)',i))\n",
    "\n",
    "\n",
    "Imdb['movie_runtime'] =Imdb.movie_runtime.apply(lambda i: re.findall(r'(\\d+)',i)[0])"
   ]
  },
  {
   "cell_type": "code",
   "execution_count": 29,
   "id": "18ba42ef",
   "metadata": {},
   "outputs": [],
   "source": [
    "Imdb['movie_ranking']=Imdb['movie_ranking'].astype(int)"
   ]
  },
  {
   "cell_type": "code",
   "execution_count": 30,
   "id": "2c756fdd",
   "metadata": {},
   "outputs": [
    {
     "data": {
      "text/html": [
       "<div>\n",
       "<style scoped>\n",
       "    .dataframe tbody tr th:only-of-type {\n",
       "        vertical-align: middle;\n",
       "    }\n",
       "\n",
       "    .dataframe tbody tr th {\n",
       "        vertical-align: top;\n",
       "    }\n",
       "\n",
       "    .dataframe thead th {\n",
       "        text-align: right;\n",
       "    }\n",
       "</style>\n",
       "<table border=\"1\" class=\"dataframe\">\n",
       "  <thead>\n",
       "    <tr style=\"text-align: right;\">\n",
       "      <th></th>\n",
       "      <th>Unnamed: 0</th>\n",
       "      <th>movie_names</th>\n",
       "      <th>release_year</th>\n",
       "      <th>movie_runtime</th>\n",
       "      <th>movie_genre</th>\n",
       "      <th>movie_rating</th>\n",
       "      <th>movie_ranking</th>\n",
       "      <th>Movie_Director</th>\n",
       "      <th>Movie_Stars</th>\n",
       "      <th>metascore</th>\n",
       "      <th>votes</th>\n",
       "      <th>Gross</th>\n",
       "    </tr>\n",
       "  </thead>\n",
       "  <tbody>\n",
       "    <tr>\n",
       "      <th>0</th>\n",
       "      <td>0</td>\n",
       "      <td>Elvis</td>\n",
       "      <td>2022</td>\n",
       "      <td>159</td>\n",
       "      <td>Biography, Drama, Music</td>\n",
       "      <td>7.8</td>\n",
       "      <td>1</td>\n",
       "      <td>Baz Luhrmann</td>\n",
       "      <td>Tom Hanks,  Austin Butler,  Olivia DeJonge,  H...</td>\n",
       "      <td>64.0</td>\n",
       "      <td>28,197</td>\n",
       "      <td>NaN</td>\n",
       "    </tr>\n",
       "    <tr>\n",
       "      <th>1</th>\n",
       "      <td>1</td>\n",
       "      <td>Top Gun: Maverick</td>\n",
       "      <td>2022</td>\n",
       "      <td>130</td>\n",
       "      <td>Action, Drama</td>\n",
       "      <td>8.6</td>\n",
       "      <td>2</td>\n",
       "      <td>Joseph Kosinski</td>\n",
       "      <td>Tom Cruise,  Jennifer Connelly,  Miles Teller,...</td>\n",
       "      <td>78.0</td>\n",
       "      <td>213,829</td>\n",
       "      <td>NaN</td>\n",
       "    </tr>\n",
       "    <tr>\n",
       "      <th>2</th>\n",
       "      <td>2</td>\n",
       "      <td>Everything Everywhere All at Once</td>\n",
       "      <td>2022</td>\n",
       "      <td>139</td>\n",
       "      <td>Action, Adventure, Comedy</td>\n",
       "      <td>8.3</td>\n",
       "      <td>3</td>\n",
       "      <td>Dan Kwan,  Daniel Scheinert</td>\n",
       "      <td>Michelle Yeoh,  Stephanie Hsu,  Ke Huy Quan,  ...</td>\n",
       "      <td>81.0</td>\n",
       "      <td>137,086</td>\n",
       "      <td>NaN</td>\n",
       "    </tr>\n",
       "  </tbody>\n",
       "</table>\n",
       "</div>"
      ],
      "text/plain": [
       "   Unnamed: 0                        movie_names release_year movie_runtime  \\\n",
       "0           0                              Elvis         2022           159   \n",
       "1           1                  Top Gun: Maverick         2022           130   \n",
       "2           2  Everything Everywhere All at Once         2022           139   \n",
       "\n",
       "                 movie_genre  movie_rating  movie_ranking  \\\n",
       "0    Biography, Drama, Music           7.8              1   \n",
       "1              Action, Drama           8.6              2   \n",
       "2  Action, Adventure, Comedy           8.3              3   \n",
       "\n",
       "                Movie_Director  \\\n",
       "0                 Baz Luhrmann   \n",
       "1              Joseph Kosinski   \n",
       "2  Dan Kwan,  Daniel Scheinert   \n",
       "\n",
       "                                         Movie_Stars  metascore    votes  \\\n",
       "0  Tom Hanks,  Austin Butler,  Olivia DeJonge,  H...       64.0   28,197   \n",
       "1  Tom Cruise,  Jennifer Connelly,  Miles Teller,...       78.0  213,829   \n",
       "2  Michelle Yeoh,  Stephanie Hsu,  Ke Huy Quan,  ...       81.0  137,086   \n",
       "\n",
       "   Gross  \n",
       "0    NaN  \n",
       "1    NaN  \n",
       "2    NaN  "
      ]
     },
     "execution_count": 30,
     "metadata": {},
     "output_type": "execute_result"
    }
   ],
   "source": [
    "Imdb.head(3)"
   ]
  },
  {
   "cell_type": "code",
   "execution_count": 31,
   "id": "18e53044",
   "metadata": {},
   "outputs": [
    {
     "data": {
      "text/plain": [
       "'28,197'"
      ]
     },
     "execution_count": 31,
     "metadata": {},
     "output_type": "execute_result"
    }
   ],
   "source": [
    "Imdb.votes[0]"
   ]
  },
  {
   "cell_type": "code",
   "execution_count": 32,
   "id": "128f83c0",
   "metadata": {},
   "outputs": [
    {
     "data": {
      "text/plain": [
       "0        28197\n",
       "1       213829\n",
       "2       137086\n",
       "3       532311\n",
       "4      1801483\n",
       "        ...   \n",
       "645      27575\n",
       "646      81451\n",
       "647     185195\n",
       "648     117736\n",
       "649      84957\n",
       "Name: votes, Length: 650, dtype: int32"
      ]
     },
     "execution_count": 32,
     "metadata": {},
     "output_type": "execute_result"
    }
   ],
   "source": [
    "# replacing comma from votes and converting data type into int\n",
    "\n",
    "Imdb.votes = Imdb.votes.str.replace(',','')\n",
    "Imdb.votes = Imdb.votes.astype(int)\n",
    "Imdb.votes"
   ]
  },
  {
   "cell_type": "markdown",
   "id": "c588cb57",
   "metadata": {},
   "source": [
    "## 1. Checking for Duplicate rows"
   ]
  },
  {
   "cell_type": "code",
   "execution_count": 33,
   "id": "f5bd0b96",
   "metadata": {},
   "outputs": [
    {
     "name": "stdout",
     "output_type": "stream",
     "text": [
      "Are there any duplicate row in Imdb data ?  False\n"
     ]
    }
   ],
   "source": [
    "dup_data = Imdb.duplicated().any() \n",
    "print('Are there any duplicate row in Imdb data ? ',dup_data)"
   ]
  },
  {
   "cell_type": "code",
   "execution_count": 34,
   "id": "e291bac5",
   "metadata": {},
   "outputs": [
    {
     "data": {
      "text/html": [
       "<div>\n",
       "<style scoped>\n",
       "    .dataframe tbody tr th:only-of-type {\n",
       "        vertical-align: middle;\n",
       "    }\n",
       "\n",
       "    .dataframe tbody tr th {\n",
       "        vertical-align: top;\n",
       "    }\n",
       "\n",
       "    .dataframe thead th {\n",
       "        text-align: right;\n",
       "    }\n",
       "</style>\n",
       "<table border=\"1\" class=\"dataframe\">\n",
       "  <thead>\n",
       "    <tr style=\"text-align: right;\">\n",
       "      <th></th>\n",
       "      <th>Unnamed: 0</th>\n",
       "      <th>movie_names</th>\n",
       "      <th>release_year</th>\n",
       "      <th>movie_runtime</th>\n",
       "      <th>movie_genre</th>\n",
       "      <th>movie_rating</th>\n",
       "      <th>movie_ranking</th>\n",
       "      <th>Movie_Director</th>\n",
       "      <th>Movie_Stars</th>\n",
       "      <th>metascore</th>\n",
       "      <th>votes</th>\n",
       "      <th>Gross</th>\n",
       "    </tr>\n",
       "  </thead>\n",
       "  <tbody>\n",
       "  </tbody>\n",
       "</table>\n",
       "</div>"
      ],
      "text/plain": [
       "Empty DataFrame\n",
       "Columns: [Unnamed: 0, movie_names, release_year, movie_runtime, movie_genre, movie_rating, movie_ranking, Movie_Director, Movie_Stars, metascore, votes, Gross]\n",
       "Index: []"
      ]
     },
     "execution_count": 34,
     "metadata": {},
     "output_type": "execute_result"
    }
   ],
   "source": [
    "Imdb[Imdb.duplicated()]"
   ]
  },
  {
   "cell_type": "markdown",
   "id": "940aaa80",
   "metadata": {},
   "source": [
    "## 2. Identify Corrupted Data"
   ]
  },
  {
   "cell_type": "code",
   "execution_count": 35,
   "id": "d07b49e8",
   "metadata": {},
   "outputs": [
    {
     "data": {
      "text/plain": [
       "array(['2022', '1972', '2021', '2019', '1993', '1994', '1977', '2013',\n",
       "       '2017', '2008', '1976', '2010', '1997', '2014', '2005', '1985',\n",
       "       '1974', '2003', '2001', '1990', '2000', '1982', '1995', '2018',\n",
       "       '2016', '1999', '1983', '2009', '2006', '1987', 'I) (', '2012',\n",
       "       '1980', '1975', '1979', '2015', '1998', '1991', '2004', '1986',\n",
       "       '2007', '1984', '1942', '1957', '1992', '1981', '1971', '1965',\n",
       "       '2011', '1966', '1973', '1964', '1959', '2020', '1996', '2002',\n",
       "       '1988', '1968', 'II)', '1989', '1960', '1939', '1978', '1955',\n",
       "       '1969', '1946', '1954', '1962', '1967', '1936', '1941', '1961',\n",
       "       '1958', '1963', '1952', '1951', '1956', '1940', '1931', '1950',\n",
       "       '1927', '1937', '1944', 'III)', '1922', '1970', '1953', '1920',\n",
       "       '1934', '1933'], dtype=object)"
      ]
     },
     "execution_count": 35,
     "metadata": {},
     "output_type": "execute_result"
    }
   ],
   "source": [
    "Imdb.release_year.unique()"
   ]
  },
  {
   "cell_type": "code",
   "execution_count": 36,
   "id": "e03d570f",
   "metadata": {},
   "outputs": [
    {
     "data": {
      "text/plain": [
       "2014    23\n",
       "I) (    22\n",
       "2009    18\n",
       "2019    18\n",
       "2004    18\n",
       "        ..\n",
       "1927     1\n",
       "1931     1\n",
       "1942     1\n",
       "1936     1\n",
       "1933     1\n",
       "Name: release_year, Length: 90, dtype: int64"
      ]
     },
     "execution_count": 36,
     "metadata": {},
     "output_type": "execute_result"
    }
   ],
   "source": [
    "Imdb.release_year.value_counts()"
   ]
  },
  {
   "cell_type": "code",
   "execution_count": 37,
   "id": "10e5f191",
   "metadata": {},
   "outputs": [],
   "source": [
    "# convert the corrupted data to missing values\n",
    "\n",
    "Imdb['release_year'] = Imdb.release_year.replace({\"I) (\":np.NaN,\"II)\":np.NaN,'III)':np.NaN})"
   ]
  },
  {
   "cell_type": "markdown",
   "id": "de2ac8d3",
   "metadata": {},
   "source": [
    "### 2. Handling missing values"
   ]
  },
  {
   "cell_type": "code",
   "execution_count": 38,
   "id": "30b014d9",
   "metadata": {},
   "outputs": [
    {
     "data": {
      "text/plain": [
       "Unnamed: 0         0\n",
       "movie_names        0\n",
       "release_year      26\n",
       "movie_runtime      0\n",
       "movie_genre        0\n",
       "movie_rating       0\n",
       "movie_ranking      0\n",
       "Movie_Director     0\n",
       "Movie_Stars        0\n",
       "metascore         27\n",
       "votes              0\n",
       "Gross             61\n",
       "dtype: int64"
      ]
     },
     "execution_count": 38,
     "metadata": {},
     "output_type": "execute_result"
    }
   ],
   "source": [
    "Imdb.isnull().sum()"
   ]
  },
  {
   "cell_type": "code",
   "execution_count": 39,
   "id": "f9e097ab",
   "metadata": {},
   "outputs": [
    {
     "data": {
      "text/html": [
       "<div>\n",
       "<style scoped>\n",
       "    .dataframe tbody tr th:only-of-type {\n",
       "        vertical-align: middle;\n",
       "    }\n",
       "\n",
       "    .dataframe tbody tr th {\n",
       "        vertical-align: top;\n",
       "    }\n",
       "\n",
       "    .dataframe thead th {\n",
       "        text-align: right;\n",
       "    }\n",
       "</style>\n",
       "<table border=\"1\" class=\"dataframe\">\n",
       "  <thead>\n",
       "    <tr style=\"text-align: right;\">\n",
       "      <th></th>\n",
       "      <th>Unnamed: 0</th>\n",
       "      <th>movie_names</th>\n",
       "      <th>release_year</th>\n",
       "      <th>movie_runtime</th>\n",
       "      <th>movie_genre</th>\n",
       "      <th>movie_rating</th>\n",
       "      <th>movie_ranking</th>\n",
       "      <th>Movie_Director</th>\n",
       "      <th>Movie_Stars</th>\n",
       "      <th>metascore</th>\n",
       "      <th>votes</th>\n",
       "      <th>Gross</th>\n",
       "    </tr>\n",
       "  </thead>\n",
       "  <tbody>\n",
       "    <tr>\n",
       "      <th>0</th>\n",
       "      <td>0</td>\n",
       "      <td>Elvis</td>\n",
       "      <td>2022</td>\n",
       "      <td>159</td>\n",
       "      <td>Biography, Drama, Music</td>\n",
       "      <td>7.8</td>\n",
       "      <td>1</td>\n",
       "      <td>Baz Luhrmann</td>\n",
       "      <td>Tom Hanks,  Austin Butler,  Olivia DeJonge,  H...</td>\n",
       "      <td>64.0</td>\n",
       "      <td>28197</td>\n",
       "      <td>NaN</td>\n",
       "    </tr>\n",
       "    <tr>\n",
       "      <th>1</th>\n",
       "      <td>1</td>\n",
       "      <td>Top Gun: Maverick</td>\n",
       "      <td>2022</td>\n",
       "      <td>130</td>\n",
       "      <td>Action, Drama</td>\n",
       "      <td>8.6</td>\n",
       "      <td>2</td>\n",
       "      <td>Joseph Kosinski</td>\n",
       "      <td>Tom Cruise,  Jennifer Connelly,  Miles Teller,...</td>\n",
       "      <td>78.0</td>\n",
       "      <td>213829</td>\n",
       "      <td>NaN</td>\n",
       "    </tr>\n",
       "    <tr>\n",
       "      <th>2</th>\n",
       "      <td>2</td>\n",
       "      <td>Everything Everywhere All at Once</td>\n",
       "      <td>2022</td>\n",
       "      <td>139</td>\n",
       "      <td>Action, Adventure, Comedy</td>\n",
       "      <td>8.3</td>\n",
       "      <td>3</td>\n",
       "      <td>Dan Kwan,  Daniel Scheinert</td>\n",
       "      <td>Michelle Yeoh,  Stephanie Hsu,  Ke Huy Quan,  ...</td>\n",
       "      <td>81.0</td>\n",
       "      <td>137086</td>\n",
       "      <td>NaN</td>\n",
       "    </tr>\n",
       "    <tr>\n",
       "      <th>3</th>\n",
       "      <td>3</td>\n",
       "      <td>The Batman</td>\n",
       "      <td>2022</td>\n",
       "      <td>176</td>\n",
       "      <td>Action, Crime, Drama</td>\n",
       "      <td>7.9</td>\n",
       "      <td>4</td>\n",
       "      <td>Matt Reeves</td>\n",
       "      <td>Robert Pattinson,  Zoë Kravitz,  Jeffrey Wrigh...</td>\n",
       "      <td>72.0</td>\n",
       "      <td>532311</td>\n",
       "      <td>NaN</td>\n",
       "    </tr>\n",
       "    <tr>\n",
       "      <th>7</th>\n",
       "      <td>7</td>\n",
       "      <td>RRR (Rise Roar Revolt)</td>\n",
       "      <td>2022</td>\n",
       "      <td>187</td>\n",
       "      <td>Action, Drama</td>\n",
       "      <td>8.0</td>\n",
       "      <td>8</td>\n",
       "      <td>S.S. Rajamouli</td>\n",
       "      <td>N.T. Rama Rao Jr.,  Ram Charan,  Ajay Devgn,  ...</td>\n",
       "      <td>84.0</td>\n",
       "      <td>82016</td>\n",
       "      <td>NaN</td>\n",
       "    </tr>\n",
       "    <tr>\n",
       "      <th>...</th>\n",
       "      <td>...</td>\n",
       "      <td>...</td>\n",
       "      <td>...</td>\n",
       "      <td>...</td>\n",
       "      <td>...</td>\n",
       "      <td>...</td>\n",
       "      <td>...</td>\n",
       "      <td>...</td>\n",
       "      <td>...</td>\n",
       "      <td>...</td>\n",
       "      <td>...</td>\n",
       "      <td>...</td>\n",
       "    </tr>\n",
       "    <tr>\n",
       "      <th>622</th>\n",
       "      <td>622</td>\n",
       "      <td>Das Cabinet des Dr. Caligari</td>\n",
       "      <td>1920</td>\n",
       "      <td>76</td>\n",
       "      <td>Horror, Mystery, Thriller</td>\n",
       "      <td>8.0</td>\n",
       "      <td>623</td>\n",
       "      <td>Robert Wiene</td>\n",
       "      <td>Werner Krauss,  Conrad Veidt,  Friedrich Feher...</td>\n",
       "      <td>NaN</td>\n",
       "      <td>63012</td>\n",
       "      <td>NaN</td>\n",
       "    </tr>\n",
       "    <tr>\n",
       "      <th>623</th>\n",
       "      <td>623</td>\n",
       "      <td>Klaus</td>\n",
       "      <td>2019</td>\n",
       "      <td>96</td>\n",
       "      <td>Animation, Adventure, Comedy</td>\n",
       "      <td>8.1</td>\n",
       "      <td>624</td>\n",
       "      <td>Sergio Pablos,  Carlos Martínez López</td>\n",
       "      <td>Jason Schwartzman,  J.K. Simmons,  Rashida Jon...</td>\n",
       "      <td>65.0</td>\n",
       "      <td>143876</td>\n",
       "      <td>NaN</td>\n",
       "    </tr>\n",
       "    <tr>\n",
       "      <th>629</th>\n",
       "      <td>629</td>\n",
       "      <td>Shin seiki Evangelion Gekijô-ban: Air/Magokoro...</td>\n",
       "      <td>1997</td>\n",
       "      <td>87</td>\n",
       "      <td>Animation, Action, Drama</td>\n",
       "      <td>8.0</td>\n",
       "      <td>630</td>\n",
       "      <td>Hideaki Anno,  Kazuya Tsurumaki</td>\n",
       "      <td>Megumi Ogata,  Megumi Hayashibara,  Yûko Miyam...</td>\n",
       "      <td>NaN</td>\n",
       "      <td>52930</td>\n",
       "      <td>NaN</td>\n",
       "    </tr>\n",
       "    <tr>\n",
       "      <th>635</th>\n",
       "      <td>635</td>\n",
       "      <td>Togo</td>\n",
       "      <td>2019</td>\n",
       "      <td>113</td>\n",
       "      <td>Adventure, Biography, Drama</td>\n",
       "      <td>7.9</td>\n",
       "      <td>636</td>\n",
       "      <td>Ericson Core</td>\n",
       "      <td>Willem Dafoe,  Julianne Nicholson,  Christophe...</td>\n",
       "      <td>69.0</td>\n",
       "      <td>47689</td>\n",
       "      <td>NaN</td>\n",
       "    </tr>\n",
       "    <tr>\n",
       "      <th>641</th>\n",
       "      <td>641</td>\n",
       "      <td>Badlands</td>\n",
       "      <td>1973</td>\n",
       "      <td>94</td>\n",
       "      <td>Action, Crime, Drama</td>\n",
       "      <td>7.7</td>\n",
       "      <td>642</td>\n",
       "      <td>Terrence Malick</td>\n",
       "      <td>Martin Sheen,  Sissy Spacek,  Warren Oates,  R...</td>\n",
       "      <td>93.0</td>\n",
       "      <td>72435</td>\n",
       "      <td>NaN</td>\n",
       "    </tr>\n",
       "  </tbody>\n",
       "</table>\n",
       "<p>61 rows × 12 columns</p>\n",
       "</div>"
      ],
      "text/plain": [
       "     Unnamed: 0                                        movie_names  \\\n",
       "0             0                                              Elvis   \n",
       "1             1                                  Top Gun: Maverick   \n",
       "2             2                  Everything Everywhere All at Once   \n",
       "3             3                                         The Batman   \n",
       "7             7                             RRR (Rise Roar Revolt)   \n",
       "..          ...                                                ...   \n",
       "622         622                       Das Cabinet des Dr. Caligari   \n",
       "623         623                                              Klaus   \n",
       "629         629  Shin seiki Evangelion Gekijô-ban: Air/Magokoro...   \n",
       "635         635                                               Togo   \n",
       "641         641                                           Badlands   \n",
       "\n",
       "    release_year movie_runtime                   movie_genre  movie_rating  \\\n",
       "0           2022           159       Biography, Drama, Music           7.8   \n",
       "1           2022           130                 Action, Drama           8.6   \n",
       "2           2022           139     Action, Adventure, Comedy           8.3   \n",
       "3           2022           176          Action, Crime, Drama           7.9   \n",
       "7           2022           187                 Action, Drama           8.0   \n",
       "..           ...           ...                           ...           ...   \n",
       "622         1920            76     Horror, Mystery, Thriller           8.0   \n",
       "623         2019            96  Animation, Adventure, Comedy           8.1   \n",
       "629         1997            87      Animation, Action, Drama           8.0   \n",
       "635         2019           113   Adventure, Biography, Drama           7.9   \n",
       "641         1973            94          Action, Crime, Drama           7.7   \n",
       "\n",
       "     movie_ranking                         Movie_Director  \\\n",
       "0                1                           Baz Luhrmann   \n",
       "1                2                        Joseph Kosinski   \n",
       "2                3            Dan Kwan,  Daniel Scheinert   \n",
       "3                4                            Matt Reeves   \n",
       "7                8                         S.S. Rajamouli   \n",
       "..             ...                                    ...   \n",
       "622            623                           Robert Wiene   \n",
       "623            624  Sergio Pablos,  Carlos Martínez López   \n",
       "629            630        Hideaki Anno,  Kazuya Tsurumaki   \n",
       "635            636                           Ericson Core   \n",
       "641            642                        Terrence Malick   \n",
       "\n",
       "                                           Movie_Stars  metascore   votes  \\\n",
       "0    Tom Hanks,  Austin Butler,  Olivia DeJonge,  H...       64.0   28197   \n",
       "1    Tom Cruise,  Jennifer Connelly,  Miles Teller,...       78.0  213829   \n",
       "2    Michelle Yeoh,  Stephanie Hsu,  Ke Huy Quan,  ...       81.0  137086   \n",
       "3    Robert Pattinson,  Zoë Kravitz,  Jeffrey Wrigh...       72.0  532311   \n",
       "7    N.T. Rama Rao Jr.,  Ram Charan,  Ajay Devgn,  ...       84.0   82016   \n",
       "..                                                 ...        ...     ...   \n",
       "622  Werner Krauss,  Conrad Veidt,  Friedrich Feher...        NaN   63012   \n",
       "623  Jason Schwartzman,  J.K. Simmons,  Rashida Jon...       65.0  143876   \n",
       "629  Megumi Ogata,  Megumi Hayashibara,  Yûko Miyam...        NaN   52930   \n",
       "635  Willem Dafoe,  Julianne Nicholson,  Christophe...       69.0   47689   \n",
       "641  Martin Sheen,  Sissy Spacek,  Warren Oates,  R...       93.0   72435   \n",
       "\n",
       "     Gross  \n",
       "0      NaN  \n",
       "1      NaN  \n",
       "2      NaN  \n",
       "3      NaN  \n",
       "7      NaN  \n",
       "..     ...  \n",
       "622    NaN  \n",
       "623    NaN  \n",
       "629    NaN  \n",
       "635    NaN  \n",
       "641    NaN  \n",
       "\n",
       "[61 rows x 12 columns]"
      ]
     },
     "execution_count": 39,
     "metadata": {},
     "output_type": "execute_result"
    }
   ],
   "source": [
    "# look at the missing records once\n",
    "\n",
    "Imdb[Imdb.release_year.isnull()]\n",
    "Imdb[Imdb.metascore.isnull()]\n",
    "Imdb[Imdb.Gross.isnull()]"
   ]
  },
  {
   "cell_type": "code",
   "execution_count": 53,
   "id": "3b0ccab7",
   "metadata": {},
   "outputs": [
    {
     "ename": "KeyError",
     "evalue": "\"['Unnamed: 0'] not found in axis\"",
     "output_type": "error",
     "traceback": [
      "\u001b[1;31m---------------------------------------------------------------------------\u001b[0m",
      "\u001b[1;31mKeyError\u001b[0m                                  Traceback (most recent call last)",
      "Input \u001b[1;32mIn [53]\u001b[0m, in \u001b[0;36m<cell line: 1>\u001b[1;34m()\u001b[0m\n\u001b[1;32m----> 1\u001b[0m \u001b[43mImdb\u001b[49m\u001b[38;5;241;43m.\u001b[39;49m\u001b[43mdrop\u001b[49m\u001b[43m(\u001b[49m\u001b[43m[\u001b[49m\u001b[38;5;124;43m'\u001b[39;49m\u001b[38;5;124;43mUnnamed: 0\u001b[39;49m\u001b[38;5;124;43m'\u001b[39;49m\u001b[43m]\u001b[49m\u001b[43m,\u001b[49m\u001b[43maxis\u001b[49m\u001b[38;5;241;43m=\u001b[39;49m\u001b[38;5;241;43m1\u001b[39;49m\u001b[43m)\u001b[49m\n",
      "File \u001b[1;32m~\\anaconda3\\lib\\site-packages\\pandas\\util\\_decorators.py:311\u001b[0m, in \u001b[0;36mdeprecate_nonkeyword_arguments.<locals>.decorate.<locals>.wrapper\u001b[1;34m(*args, **kwargs)\u001b[0m\n\u001b[0;32m    305\u001b[0m \u001b[38;5;28;01mif\u001b[39;00m \u001b[38;5;28mlen\u001b[39m(args) \u001b[38;5;241m>\u001b[39m num_allow_args:\n\u001b[0;32m    306\u001b[0m     warnings\u001b[38;5;241m.\u001b[39mwarn(\n\u001b[0;32m    307\u001b[0m         msg\u001b[38;5;241m.\u001b[39mformat(arguments\u001b[38;5;241m=\u001b[39marguments),\n\u001b[0;32m    308\u001b[0m         \u001b[38;5;167;01mFutureWarning\u001b[39;00m,\n\u001b[0;32m    309\u001b[0m         stacklevel\u001b[38;5;241m=\u001b[39mstacklevel,\n\u001b[0;32m    310\u001b[0m     )\n\u001b[1;32m--> 311\u001b[0m \u001b[38;5;28;01mreturn\u001b[39;00m \u001b[43mfunc\u001b[49m\u001b[43m(\u001b[49m\u001b[38;5;241;43m*\u001b[39;49m\u001b[43margs\u001b[49m\u001b[43m,\u001b[49m\u001b[43m \u001b[49m\u001b[38;5;241;43m*\u001b[39;49m\u001b[38;5;241;43m*\u001b[39;49m\u001b[43mkwargs\u001b[49m\u001b[43m)\u001b[49m\n",
      "File \u001b[1;32m~\\anaconda3\\lib\\site-packages\\pandas\\core\\frame.py:4954\u001b[0m, in \u001b[0;36mDataFrame.drop\u001b[1;34m(self, labels, axis, index, columns, level, inplace, errors)\u001b[0m\n\u001b[0;32m   4806\u001b[0m \u001b[38;5;129m@deprecate_nonkeyword_arguments\u001b[39m(version\u001b[38;5;241m=\u001b[39m\u001b[38;5;28;01mNone\u001b[39;00m, allowed_args\u001b[38;5;241m=\u001b[39m[\u001b[38;5;124m\"\u001b[39m\u001b[38;5;124mself\u001b[39m\u001b[38;5;124m\"\u001b[39m, \u001b[38;5;124m\"\u001b[39m\u001b[38;5;124mlabels\u001b[39m\u001b[38;5;124m\"\u001b[39m])\n\u001b[0;32m   4807\u001b[0m \u001b[38;5;28;01mdef\u001b[39;00m \u001b[38;5;21mdrop\u001b[39m(\n\u001b[0;32m   4808\u001b[0m     \u001b[38;5;28mself\u001b[39m,\n\u001b[1;32m   (...)\u001b[0m\n\u001b[0;32m   4815\u001b[0m     errors: \u001b[38;5;28mstr\u001b[39m \u001b[38;5;241m=\u001b[39m \u001b[38;5;124m\"\u001b[39m\u001b[38;5;124mraise\u001b[39m\u001b[38;5;124m\"\u001b[39m,\n\u001b[0;32m   4816\u001b[0m ):\n\u001b[0;32m   4817\u001b[0m     \u001b[38;5;124;03m\"\"\"\u001b[39;00m\n\u001b[0;32m   4818\u001b[0m \u001b[38;5;124;03m    Drop specified labels from rows or columns.\u001b[39;00m\n\u001b[0;32m   4819\u001b[0m \n\u001b[1;32m   (...)\u001b[0m\n\u001b[0;32m   4952\u001b[0m \u001b[38;5;124;03m            weight  1.0     0.8\u001b[39;00m\n\u001b[0;32m   4953\u001b[0m \u001b[38;5;124;03m    \"\"\"\u001b[39;00m\n\u001b[1;32m-> 4954\u001b[0m     \u001b[38;5;28;01mreturn\u001b[39;00m \u001b[38;5;28;43msuper\u001b[39;49m\u001b[43m(\u001b[49m\u001b[43m)\u001b[49m\u001b[38;5;241;43m.\u001b[39;49m\u001b[43mdrop\u001b[49m\u001b[43m(\u001b[49m\n\u001b[0;32m   4955\u001b[0m \u001b[43m        \u001b[49m\u001b[43mlabels\u001b[49m\u001b[38;5;241;43m=\u001b[39;49m\u001b[43mlabels\u001b[49m\u001b[43m,\u001b[49m\n\u001b[0;32m   4956\u001b[0m \u001b[43m        \u001b[49m\u001b[43maxis\u001b[49m\u001b[38;5;241;43m=\u001b[39;49m\u001b[43maxis\u001b[49m\u001b[43m,\u001b[49m\n\u001b[0;32m   4957\u001b[0m \u001b[43m        \u001b[49m\u001b[43mindex\u001b[49m\u001b[38;5;241;43m=\u001b[39;49m\u001b[43mindex\u001b[49m\u001b[43m,\u001b[49m\n\u001b[0;32m   4958\u001b[0m \u001b[43m        \u001b[49m\u001b[43mcolumns\u001b[49m\u001b[38;5;241;43m=\u001b[39;49m\u001b[43mcolumns\u001b[49m\u001b[43m,\u001b[49m\n\u001b[0;32m   4959\u001b[0m \u001b[43m        \u001b[49m\u001b[43mlevel\u001b[49m\u001b[38;5;241;43m=\u001b[39;49m\u001b[43mlevel\u001b[49m\u001b[43m,\u001b[49m\n\u001b[0;32m   4960\u001b[0m \u001b[43m        \u001b[49m\u001b[43minplace\u001b[49m\u001b[38;5;241;43m=\u001b[39;49m\u001b[43minplace\u001b[49m\u001b[43m,\u001b[49m\n\u001b[0;32m   4961\u001b[0m \u001b[43m        \u001b[49m\u001b[43merrors\u001b[49m\u001b[38;5;241;43m=\u001b[39;49m\u001b[43merrors\u001b[49m\u001b[43m,\u001b[49m\n\u001b[0;32m   4962\u001b[0m \u001b[43m    \u001b[49m\u001b[43m)\u001b[49m\n",
      "File \u001b[1;32m~\\anaconda3\\lib\\site-packages\\pandas\\core\\generic.py:4267\u001b[0m, in \u001b[0;36mNDFrame.drop\u001b[1;34m(self, labels, axis, index, columns, level, inplace, errors)\u001b[0m\n\u001b[0;32m   4265\u001b[0m \u001b[38;5;28;01mfor\u001b[39;00m axis, labels \u001b[38;5;129;01min\u001b[39;00m axes\u001b[38;5;241m.\u001b[39mitems():\n\u001b[0;32m   4266\u001b[0m     \u001b[38;5;28;01mif\u001b[39;00m labels \u001b[38;5;129;01mis\u001b[39;00m \u001b[38;5;129;01mnot\u001b[39;00m \u001b[38;5;28;01mNone\u001b[39;00m:\n\u001b[1;32m-> 4267\u001b[0m         obj \u001b[38;5;241m=\u001b[39m \u001b[43mobj\u001b[49m\u001b[38;5;241;43m.\u001b[39;49m\u001b[43m_drop_axis\u001b[49m\u001b[43m(\u001b[49m\u001b[43mlabels\u001b[49m\u001b[43m,\u001b[49m\u001b[43m \u001b[49m\u001b[43maxis\u001b[49m\u001b[43m,\u001b[49m\u001b[43m \u001b[49m\u001b[43mlevel\u001b[49m\u001b[38;5;241;43m=\u001b[39;49m\u001b[43mlevel\u001b[49m\u001b[43m,\u001b[49m\u001b[43m \u001b[49m\u001b[43merrors\u001b[49m\u001b[38;5;241;43m=\u001b[39;49m\u001b[43merrors\u001b[49m\u001b[43m)\u001b[49m\n\u001b[0;32m   4269\u001b[0m \u001b[38;5;28;01mif\u001b[39;00m inplace:\n\u001b[0;32m   4270\u001b[0m     \u001b[38;5;28mself\u001b[39m\u001b[38;5;241m.\u001b[39m_update_inplace(obj)\n",
      "File \u001b[1;32m~\\anaconda3\\lib\\site-packages\\pandas\\core\\generic.py:4311\u001b[0m, in \u001b[0;36mNDFrame._drop_axis\u001b[1;34m(self, labels, axis, level, errors, consolidate, only_slice)\u001b[0m\n\u001b[0;32m   4309\u001b[0m         new_axis \u001b[38;5;241m=\u001b[39m axis\u001b[38;5;241m.\u001b[39mdrop(labels, level\u001b[38;5;241m=\u001b[39mlevel, errors\u001b[38;5;241m=\u001b[39merrors)\n\u001b[0;32m   4310\u001b[0m     \u001b[38;5;28;01melse\u001b[39;00m:\n\u001b[1;32m-> 4311\u001b[0m         new_axis \u001b[38;5;241m=\u001b[39m \u001b[43maxis\u001b[49m\u001b[38;5;241;43m.\u001b[39;49m\u001b[43mdrop\u001b[49m\u001b[43m(\u001b[49m\u001b[43mlabels\u001b[49m\u001b[43m,\u001b[49m\u001b[43m \u001b[49m\u001b[43merrors\u001b[49m\u001b[38;5;241;43m=\u001b[39;49m\u001b[43merrors\u001b[49m\u001b[43m)\u001b[49m\n\u001b[0;32m   4312\u001b[0m     indexer \u001b[38;5;241m=\u001b[39m axis\u001b[38;5;241m.\u001b[39mget_indexer(new_axis)\n\u001b[0;32m   4314\u001b[0m \u001b[38;5;66;03m# Case for non-unique axis\u001b[39;00m\n\u001b[0;32m   4315\u001b[0m \u001b[38;5;28;01melse\u001b[39;00m:\n",
      "File \u001b[1;32m~\\anaconda3\\lib\\site-packages\\pandas\\core\\indexes\\base.py:6644\u001b[0m, in \u001b[0;36mIndex.drop\u001b[1;34m(self, labels, errors)\u001b[0m\n\u001b[0;32m   6642\u001b[0m \u001b[38;5;28;01mif\u001b[39;00m mask\u001b[38;5;241m.\u001b[39many():\n\u001b[0;32m   6643\u001b[0m     \u001b[38;5;28;01mif\u001b[39;00m errors \u001b[38;5;241m!=\u001b[39m \u001b[38;5;124m\"\u001b[39m\u001b[38;5;124mignore\u001b[39m\u001b[38;5;124m\"\u001b[39m:\n\u001b[1;32m-> 6644\u001b[0m         \u001b[38;5;28;01mraise\u001b[39;00m \u001b[38;5;167;01mKeyError\u001b[39;00m(\u001b[38;5;124mf\u001b[39m\u001b[38;5;124m\"\u001b[39m\u001b[38;5;132;01m{\u001b[39;00m\u001b[38;5;28mlist\u001b[39m(labels[mask])\u001b[38;5;132;01m}\u001b[39;00m\u001b[38;5;124m not found in axis\u001b[39m\u001b[38;5;124m\"\u001b[39m)\n\u001b[0;32m   6645\u001b[0m     indexer \u001b[38;5;241m=\u001b[39m indexer[\u001b[38;5;241m~\u001b[39mmask]\n\u001b[0;32m   6646\u001b[0m \u001b[38;5;28;01mreturn\u001b[39;00m \u001b[38;5;28mself\u001b[39m\u001b[38;5;241m.\u001b[39mdelete(indexer)\n",
      "\u001b[1;31mKeyError\u001b[0m: \"['Unnamed: 0'] not found in axis\""
     ]
    }
   ],
   "source": [
    "Imdb.drop(['Unnamed: 0'],axis=1)"
   ]
  },
  {
   "cell_type": "code",
   "execution_count": 54,
   "id": "04efe843",
   "metadata": {},
   "outputs": [
    {
     "ename": "KeyError",
     "evalue": "\"['Unnamed: 0'] not found in axis\"",
     "output_type": "error",
     "traceback": [
      "\u001b[1;31m---------------------------------------------------------------------------\u001b[0m",
      "\u001b[1;31mKeyError\u001b[0m                                  Traceback (most recent call last)",
      "Input \u001b[1;32mIn [54]\u001b[0m, in \u001b[0;36m<cell line: 1>\u001b[1;34m()\u001b[0m\n\u001b[1;32m----> 1\u001b[0m \u001b[43mImdb\u001b[49m\u001b[38;5;241;43m.\u001b[39;49m\u001b[43mdrop\u001b[49m\u001b[43m(\u001b[49m\u001b[43m[\u001b[49m\u001b[38;5;124;43m'\u001b[39;49m\u001b[38;5;124;43mUnnamed: 0\u001b[39;49m\u001b[38;5;124;43m'\u001b[39;49m\u001b[43m]\u001b[49m\u001b[43m,\u001b[49m\u001b[43maxis\u001b[49m\u001b[38;5;241;43m=\u001b[39;49m\u001b[38;5;241;43m1\u001b[39;49m\u001b[43m)\u001b[49m\n",
      "File \u001b[1;32m~\\anaconda3\\lib\\site-packages\\pandas\\util\\_decorators.py:311\u001b[0m, in \u001b[0;36mdeprecate_nonkeyword_arguments.<locals>.decorate.<locals>.wrapper\u001b[1;34m(*args, **kwargs)\u001b[0m\n\u001b[0;32m    305\u001b[0m \u001b[38;5;28;01mif\u001b[39;00m \u001b[38;5;28mlen\u001b[39m(args) \u001b[38;5;241m>\u001b[39m num_allow_args:\n\u001b[0;32m    306\u001b[0m     warnings\u001b[38;5;241m.\u001b[39mwarn(\n\u001b[0;32m    307\u001b[0m         msg\u001b[38;5;241m.\u001b[39mformat(arguments\u001b[38;5;241m=\u001b[39marguments),\n\u001b[0;32m    308\u001b[0m         \u001b[38;5;167;01mFutureWarning\u001b[39;00m,\n\u001b[0;32m    309\u001b[0m         stacklevel\u001b[38;5;241m=\u001b[39mstacklevel,\n\u001b[0;32m    310\u001b[0m     )\n\u001b[1;32m--> 311\u001b[0m \u001b[38;5;28;01mreturn\u001b[39;00m \u001b[43mfunc\u001b[49m\u001b[43m(\u001b[49m\u001b[38;5;241;43m*\u001b[39;49m\u001b[43margs\u001b[49m\u001b[43m,\u001b[49m\u001b[43m \u001b[49m\u001b[38;5;241;43m*\u001b[39;49m\u001b[38;5;241;43m*\u001b[39;49m\u001b[43mkwargs\u001b[49m\u001b[43m)\u001b[49m\n",
      "File \u001b[1;32m~\\anaconda3\\lib\\site-packages\\pandas\\core\\frame.py:4954\u001b[0m, in \u001b[0;36mDataFrame.drop\u001b[1;34m(self, labels, axis, index, columns, level, inplace, errors)\u001b[0m\n\u001b[0;32m   4806\u001b[0m \u001b[38;5;129m@deprecate_nonkeyword_arguments\u001b[39m(version\u001b[38;5;241m=\u001b[39m\u001b[38;5;28;01mNone\u001b[39;00m, allowed_args\u001b[38;5;241m=\u001b[39m[\u001b[38;5;124m\"\u001b[39m\u001b[38;5;124mself\u001b[39m\u001b[38;5;124m\"\u001b[39m, \u001b[38;5;124m\"\u001b[39m\u001b[38;5;124mlabels\u001b[39m\u001b[38;5;124m\"\u001b[39m])\n\u001b[0;32m   4807\u001b[0m \u001b[38;5;28;01mdef\u001b[39;00m \u001b[38;5;21mdrop\u001b[39m(\n\u001b[0;32m   4808\u001b[0m     \u001b[38;5;28mself\u001b[39m,\n\u001b[1;32m   (...)\u001b[0m\n\u001b[0;32m   4815\u001b[0m     errors: \u001b[38;5;28mstr\u001b[39m \u001b[38;5;241m=\u001b[39m \u001b[38;5;124m\"\u001b[39m\u001b[38;5;124mraise\u001b[39m\u001b[38;5;124m\"\u001b[39m,\n\u001b[0;32m   4816\u001b[0m ):\n\u001b[0;32m   4817\u001b[0m     \u001b[38;5;124;03m\"\"\"\u001b[39;00m\n\u001b[0;32m   4818\u001b[0m \u001b[38;5;124;03m    Drop specified labels from rows or columns.\u001b[39;00m\n\u001b[0;32m   4819\u001b[0m \n\u001b[1;32m   (...)\u001b[0m\n\u001b[0;32m   4952\u001b[0m \u001b[38;5;124;03m            weight  1.0     0.8\u001b[39;00m\n\u001b[0;32m   4953\u001b[0m \u001b[38;5;124;03m    \"\"\"\u001b[39;00m\n\u001b[1;32m-> 4954\u001b[0m     \u001b[38;5;28;01mreturn\u001b[39;00m \u001b[38;5;28;43msuper\u001b[39;49m\u001b[43m(\u001b[49m\u001b[43m)\u001b[49m\u001b[38;5;241;43m.\u001b[39;49m\u001b[43mdrop\u001b[49m\u001b[43m(\u001b[49m\n\u001b[0;32m   4955\u001b[0m \u001b[43m        \u001b[49m\u001b[43mlabels\u001b[49m\u001b[38;5;241;43m=\u001b[39;49m\u001b[43mlabels\u001b[49m\u001b[43m,\u001b[49m\n\u001b[0;32m   4956\u001b[0m \u001b[43m        \u001b[49m\u001b[43maxis\u001b[49m\u001b[38;5;241;43m=\u001b[39;49m\u001b[43maxis\u001b[49m\u001b[43m,\u001b[49m\n\u001b[0;32m   4957\u001b[0m \u001b[43m        \u001b[49m\u001b[43mindex\u001b[49m\u001b[38;5;241;43m=\u001b[39;49m\u001b[43mindex\u001b[49m\u001b[43m,\u001b[49m\n\u001b[0;32m   4958\u001b[0m \u001b[43m        \u001b[49m\u001b[43mcolumns\u001b[49m\u001b[38;5;241;43m=\u001b[39;49m\u001b[43mcolumns\u001b[49m\u001b[43m,\u001b[49m\n\u001b[0;32m   4959\u001b[0m \u001b[43m        \u001b[49m\u001b[43mlevel\u001b[49m\u001b[38;5;241;43m=\u001b[39;49m\u001b[43mlevel\u001b[49m\u001b[43m,\u001b[49m\n\u001b[0;32m   4960\u001b[0m \u001b[43m        \u001b[49m\u001b[43minplace\u001b[49m\u001b[38;5;241;43m=\u001b[39;49m\u001b[43minplace\u001b[49m\u001b[43m,\u001b[49m\n\u001b[0;32m   4961\u001b[0m \u001b[43m        \u001b[49m\u001b[43merrors\u001b[49m\u001b[38;5;241;43m=\u001b[39;49m\u001b[43merrors\u001b[49m\u001b[43m,\u001b[49m\n\u001b[0;32m   4962\u001b[0m \u001b[43m    \u001b[49m\u001b[43m)\u001b[49m\n",
      "File \u001b[1;32m~\\anaconda3\\lib\\site-packages\\pandas\\core\\generic.py:4267\u001b[0m, in \u001b[0;36mNDFrame.drop\u001b[1;34m(self, labels, axis, index, columns, level, inplace, errors)\u001b[0m\n\u001b[0;32m   4265\u001b[0m \u001b[38;5;28;01mfor\u001b[39;00m axis, labels \u001b[38;5;129;01min\u001b[39;00m axes\u001b[38;5;241m.\u001b[39mitems():\n\u001b[0;32m   4266\u001b[0m     \u001b[38;5;28;01mif\u001b[39;00m labels \u001b[38;5;129;01mis\u001b[39;00m \u001b[38;5;129;01mnot\u001b[39;00m \u001b[38;5;28;01mNone\u001b[39;00m:\n\u001b[1;32m-> 4267\u001b[0m         obj \u001b[38;5;241m=\u001b[39m \u001b[43mobj\u001b[49m\u001b[38;5;241;43m.\u001b[39;49m\u001b[43m_drop_axis\u001b[49m\u001b[43m(\u001b[49m\u001b[43mlabels\u001b[49m\u001b[43m,\u001b[49m\u001b[43m \u001b[49m\u001b[43maxis\u001b[49m\u001b[43m,\u001b[49m\u001b[43m \u001b[49m\u001b[43mlevel\u001b[49m\u001b[38;5;241;43m=\u001b[39;49m\u001b[43mlevel\u001b[49m\u001b[43m,\u001b[49m\u001b[43m \u001b[49m\u001b[43merrors\u001b[49m\u001b[38;5;241;43m=\u001b[39;49m\u001b[43merrors\u001b[49m\u001b[43m)\u001b[49m\n\u001b[0;32m   4269\u001b[0m \u001b[38;5;28;01mif\u001b[39;00m inplace:\n\u001b[0;32m   4270\u001b[0m     \u001b[38;5;28mself\u001b[39m\u001b[38;5;241m.\u001b[39m_update_inplace(obj)\n",
      "File \u001b[1;32m~\\anaconda3\\lib\\site-packages\\pandas\\core\\generic.py:4311\u001b[0m, in \u001b[0;36mNDFrame._drop_axis\u001b[1;34m(self, labels, axis, level, errors, consolidate, only_slice)\u001b[0m\n\u001b[0;32m   4309\u001b[0m         new_axis \u001b[38;5;241m=\u001b[39m axis\u001b[38;5;241m.\u001b[39mdrop(labels, level\u001b[38;5;241m=\u001b[39mlevel, errors\u001b[38;5;241m=\u001b[39merrors)\n\u001b[0;32m   4310\u001b[0m     \u001b[38;5;28;01melse\u001b[39;00m:\n\u001b[1;32m-> 4311\u001b[0m         new_axis \u001b[38;5;241m=\u001b[39m \u001b[43maxis\u001b[49m\u001b[38;5;241;43m.\u001b[39;49m\u001b[43mdrop\u001b[49m\u001b[43m(\u001b[49m\u001b[43mlabels\u001b[49m\u001b[43m,\u001b[49m\u001b[43m \u001b[49m\u001b[43merrors\u001b[49m\u001b[38;5;241;43m=\u001b[39;49m\u001b[43merrors\u001b[49m\u001b[43m)\u001b[49m\n\u001b[0;32m   4312\u001b[0m     indexer \u001b[38;5;241m=\u001b[39m axis\u001b[38;5;241m.\u001b[39mget_indexer(new_axis)\n\u001b[0;32m   4314\u001b[0m \u001b[38;5;66;03m# Case for non-unique axis\u001b[39;00m\n\u001b[0;32m   4315\u001b[0m \u001b[38;5;28;01melse\u001b[39;00m:\n",
      "File \u001b[1;32m~\\anaconda3\\lib\\site-packages\\pandas\\core\\indexes\\base.py:6644\u001b[0m, in \u001b[0;36mIndex.drop\u001b[1;34m(self, labels, errors)\u001b[0m\n\u001b[0;32m   6642\u001b[0m \u001b[38;5;28;01mif\u001b[39;00m mask\u001b[38;5;241m.\u001b[39many():\n\u001b[0;32m   6643\u001b[0m     \u001b[38;5;28;01mif\u001b[39;00m errors \u001b[38;5;241m!=\u001b[39m \u001b[38;5;124m\"\u001b[39m\u001b[38;5;124mignore\u001b[39m\u001b[38;5;124m\"\u001b[39m:\n\u001b[1;32m-> 6644\u001b[0m         \u001b[38;5;28;01mraise\u001b[39;00m \u001b[38;5;167;01mKeyError\u001b[39;00m(\u001b[38;5;124mf\u001b[39m\u001b[38;5;124m\"\u001b[39m\u001b[38;5;132;01m{\u001b[39;00m\u001b[38;5;28mlist\u001b[39m(labels[mask])\u001b[38;5;132;01m}\u001b[39;00m\u001b[38;5;124m not found in axis\u001b[39m\u001b[38;5;124m\"\u001b[39m)\n\u001b[0;32m   6645\u001b[0m     indexer \u001b[38;5;241m=\u001b[39m indexer[\u001b[38;5;241m~\u001b[39mmask]\n\u001b[0;32m   6646\u001b[0m \u001b[38;5;28;01mreturn\u001b[39;00m \u001b[38;5;28mself\u001b[39m\u001b[38;5;241m.\u001b[39mdelete(indexer)\n",
      "\u001b[1;31mKeyError\u001b[0m: \"['Unnamed: 0'] not found in axis\""
     ]
    }
   ],
   "source": [
    "Imdb.drop(['Unnamed: 0'],axis=1)"
   ]
  },
  {
   "cell_type": "code",
   "execution_count": 40,
   "id": "ff93bff3",
   "metadata": {},
   "outputs": [
    {
     "data": {
      "text/plain": [
       "Unnamed: 0         0.0 %\n",
       "movie_names        0.0 %\n",
       "release_year       4.0 %\n",
       "movie_runtime      0.0 %\n",
       "movie_genre        0.0 %\n",
       "movie_rating       0.0 %\n",
       "movie_ranking      0.0 %\n",
       "Movie_Director     0.0 %\n",
       "Movie_Stars        0.0 %\n",
       "metascore         4.15 %\n",
       "votes              0.0 %\n",
       "Gross             9.38 %\n",
       "dtype: object"
      ]
     },
     "execution_count": 40,
     "metadata": {},
     "output_type": "execute_result"
    }
   ],
   "source": [
    "# checking the percentage of missing value\n",
    "\n",
    "(Imdb.isnull().sum()*100/len(Imdb)).round(2).astype(str) + ' %'"
   ]
  },
  {
   "cell_type": "code",
   "execution_count": 42,
   "id": "f3f5bb4f",
   "metadata": {},
   "outputs": [
    {
     "data": {
      "text/plain": [
       "Unnamed: 0         0\n",
       "movie_names        0\n",
       "release_year      26\n",
       "movie_runtime      0\n",
       "movie_genre        0\n",
       "movie_rating       0\n",
       "movie_ranking      0\n",
       "Movie_Director     0\n",
       "Movie_Stars        0\n",
       "metascore         27\n",
       "votes              0\n",
       "Gross             61\n",
       "dtype: int64"
      ]
     },
     "execution_count": 42,
     "metadata": {},
     "output_type": "execute_result"
    }
   ],
   "source": [
    "Imdb.isnull().sum()"
   ]
  },
  {
   "cell_type": "markdown",
   "id": "8b1fc614",
   "metadata": {},
   "source": [
    "## Drop missing values"
   ]
  },
  {
   "cell_type": "code",
   "execution_count": 43,
   "id": "924cb8be",
   "metadata": {},
   "outputs": [
    {
     "data": {
      "text/plain": [
       "'17.54%'"
      ]
     },
     "execution_count": 43,
     "metadata": {},
     "output_type": "execute_result"
    }
   ],
   "source": [
    "# total number of missing records\n",
    "np.sum(Imdb.isna().sum())\n",
    "\n",
    "Imdb.shape\n",
    "\n",
    "# Pct of total missing rows in DF\n",
    "np.round(np.sum(Imdb.isna().sum())/len(Imdb)*100,2).astype(str) + '%'"
   ]
  },
  {
   "cell_type": "code",
   "execution_count": 44,
   "id": "f33f7f4d",
   "metadata": {},
   "outputs": [],
   "source": [
    "Imdb.dropna(axis=0,how='any',inplace=True)"
   ]
  },
  {
   "cell_type": "code",
   "execution_count": 45,
   "id": "6ed847a0",
   "metadata": {},
   "outputs": [
    {
     "data": {
      "text/plain": [
       "(552, 12)"
      ]
     },
     "execution_count": 45,
     "metadata": {},
     "output_type": "execute_result"
    }
   ],
   "source": [
    "Imdb.shape"
   ]
  },
  {
   "cell_type": "code",
   "execution_count": 46,
   "id": "fdcf3f8e",
   "metadata": {},
   "outputs": [],
   "source": [
    "# Droping unwanted column\n",
    "Imdb.drop(['Unnamed: 0'],axis=1,inplace=True)"
   ]
  },
  {
   "cell_type": "code",
   "execution_count": 47,
   "id": "9be19ea7",
   "metadata": {},
   "outputs": [],
   "source": [
    "# reset indexing\n",
    "Imdb.reset_index(drop=True,inplace=True)"
   ]
  },
  {
   "cell_type": "code",
   "execution_count": 48,
   "id": "bed80150",
   "metadata": {},
   "outputs": [],
   "source": [
    "# type casting\n",
    "\n",
    "Imdb['release_year'] = Imdb['release_year'].astype(int)\n",
    "Imdb['movie_runtime'] = Imdb['movie_runtime'].astype(int)"
   ]
  },
  {
   "cell_type": "code",
   "execution_count": 49,
   "id": "925c0d79",
   "metadata": {},
   "outputs": [
    {
     "data": {
      "text/html": [
       "<div>\n",
       "<style scoped>\n",
       "    .dataframe tbody tr th:only-of-type {\n",
       "        vertical-align: middle;\n",
       "    }\n",
       "\n",
       "    .dataframe tbody tr th {\n",
       "        vertical-align: top;\n",
       "    }\n",
       "\n",
       "    .dataframe thead th {\n",
       "        text-align: right;\n",
       "    }\n",
       "</style>\n",
       "<table border=\"1\" class=\"dataframe\">\n",
       "  <thead>\n",
       "    <tr style=\"text-align: right;\">\n",
       "      <th></th>\n",
       "      <th>movie_names</th>\n",
       "      <th>release_year</th>\n",
       "      <th>movie_runtime</th>\n",
       "      <th>movie_genre</th>\n",
       "      <th>movie_rating</th>\n",
       "      <th>movie_ranking</th>\n",
       "      <th>Movie_Director</th>\n",
       "      <th>Movie_Stars</th>\n",
       "      <th>metascore</th>\n",
       "      <th>votes</th>\n",
       "      <th>Gross</th>\n",
       "    </tr>\n",
       "  </thead>\n",
       "  <tbody>\n",
       "    <tr>\n",
       "      <th>547</th>\n",
       "      <td>The Caine Mutiny</td>\n",
       "      <td>1954</td>\n",
       "      <td>124</td>\n",
       "      <td>Drama, War</td>\n",
       "      <td>7.7</td>\n",
       "      <td>646</td>\n",
       "      <td>Edward Dmytryk</td>\n",
       "      <td>Humphrey Bogart,  José Ferrer,  Van Johnson,  ...</td>\n",
       "      <td>63.0</td>\n",
       "      <td>27575</td>\n",
       "      <td>21.75</td>\n",
       "    </tr>\n",
       "    <tr>\n",
       "      <th>548</th>\n",
       "      <td>The Hustler</td>\n",
       "      <td>1961</td>\n",
       "      <td>134</td>\n",
       "      <td>Drama, Sport</td>\n",
       "      <td>8.0</td>\n",
       "      <td>647</td>\n",
       "      <td>Robert Rossen</td>\n",
       "      <td>Paul Newman,  Jackie Gleason,  Piper Laurie,  ...</td>\n",
       "      <td>90.0</td>\n",
       "      <td>81451</td>\n",
       "      <td>8.28</td>\n",
       "    </tr>\n",
       "    <tr>\n",
       "      <th>549</th>\n",
       "      <td>The Last King of Scotland</td>\n",
       "      <td>2006</td>\n",
       "      <td>123</td>\n",
       "      <td>Biography, Drama, History</td>\n",
       "      <td>7.7</td>\n",
       "      <td>648</td>\n",
       "      <td>Kevin Macdonald</td>\n",
       "      <td>James McAvoy,  Forest Whitaker,  Gillian Ander...</td>\n",
       "      <td>74.0</td>\n",
       "      <td>185195</td>\n",
       "      <td>17.61</td>\n",
       "    </tr>\n",
       "    <tr>\n",
       "      <th>550</th>\n",
       "      <td>Nebraska</td>\n",
       "      <td>2013</td>\n",
       "      <td>115</td>\n",
       "      <td>Adventure, Comedy, Drama</td>\n",
       "      <td>7.7</td>\n",
       "      <td>649</td>\n",
       "      <td>Alexander Payne</td>\n",
       "      <td>Bruce Dern,  Will Forte,  June Squibb,  Bob Od...</td>\n",
       "      <td>87.0</td>\n",
       "      <td>117736</td>\n",
       "      <td>17.65</td>\n",
       "    </tr>\n",
       "    <tr>\n",
       "      <th>551</th>\n",
       "      <td>King Kong</td>\n",
       "      <td>1933</td>\n",
       "      <td>100</td>\n",
       "      <td>Adventure, Horror, Sci-Fi</td>\n",
       "      <td>7.9</td>\n",
       "      <td>650</td>\n",
       "      <td>Merian C. Cooper,  Ernest B. Schoedsack</td>\n",
       "      <td>Fay Wray,  Robert Armstrong,  Bruce Cabot,  Fr...</td>\n",
       "      <td>90.0</td>\n",
       "      <td>84957</td>\n",
       "      <td>10.00</td>\n",
       "    </tr>\n",
       "  </tbody>\n",
       "</table>\n",
       "</div>"
      ],
      "text/plain": [
       "                   movie_names  release_year  movie_runtime  \\\n",
       "547           The Caine Mutiny          1954            124   \n",
       "548                The Hustler          1961            134   \n",
       "549  The Last King of Scotland          2006            123   \n",
       "550                   Nebraska          2013            115   \n",
       "551                  King Kong          1933            100   \n",
       "\n",
       "                   movie_genre  movie_rating  movie_ranking  \\\n",
       "547                 Drama, War           7.7            646   \n",
       "548               Drama, Sport           8.0            647   \n",
       "549  Biography, Drama, History           7.7            648   \n",
       "550   Adventure, Comedy, Drama           7.7            649   \n",
       "551  Adventure, Horror, Sci-Fi           7.9            650   \n",
       "\n",
       "                              Movie_Director  \\\n",
       "547                           Edward Dmytryk   \n",
       "548                            Robert Rossen   \n",
       "549                          Kevin Macdonald   \n",
       "550                          Alexander Payne   \n",
       "551  Merian C. Cooper,  Ernest B. Schoedsack   \n",
       "\n",
       "                                           Movie_Stars  metascore   votes  \\\n",
       "547  Humphrey Bogart,  José Ferrer,  Van Johnson,  ...       63.0   27575   \n",
       "548  Paul Newman,  Jackie Gleason,  Piper Laurie,  ...       90.0   81451   \n",
       "549  James McAvoy,  Forest Whitaker,  Gillian Ander...       74.0  185195   \n",
       "550  Bruce Dern,  Will Forte,  June Squibb,  Bob Od...       87.0  117736   \n",
       "551  Fay Wray,  Robert Armstrong,  Bruce Cabot,  Fr...       90.0   84957   \n",
       "\n",
       "     Gross  \n",
       "547  21.75  \n",
       "548   8.28  \n",
       "549  17.61  \n",
       "550  17.65  \n",
       "551  10.00  "
      ]
     },
     "execution_count": 49,
     "metadata": {},
     "output_type": "execute_result"
    }
   ],
   "source": [
    "Imdb.tail()"
   ]
  },
  {
   "cell_type": "code",
   "execution_count": 52,
   "id": "fa42f055",
   "metadata": {},
   "outputs": [
    {
     "data": {
      "text/plain": [
       "movie_names       0\n",
       "release_year      0\n",
       "movie_runtime     0\n",
       "movie_genre       0\n",
       "movie_rating      0\n",
       "movie_ranking     0\n",
       "Movie_Director    0\n",
       "Movie_Stars       0\n",
       "metascore         0\n",
       "votes             0\n",
       "Gross             0\n",
       "dtype: int64"
      ]
     },
     "execution_count": 52,
     "metadata": {},
     "output_type": "execute_result"
    }
   ],
   "source": [
    "Imdb.isnull().sum()"
   ]
  },
  {
   "cell_type": "code",
   "execution_count": 51,
   "id": "0de9ff25",
   "metadata": {},
   "outputs": [],
   "source": [
    "Imdb.to_csv(r'C:\\Users\\HP\\Data_Science_Course\\01 PYTHON PROGRAMMING\\Datasets\\Imdb_EDA.csv')"
   ]
  },
  {
   "cell_type": "code",
   "execution_count": null,
   "id": "b922c32c",
   "metadata": {},
   "outputs": [],
   "source": []
  },
  {
   "cell_type": "code",
   "execution_count": null,
   "id": "a17789d3",
   "metadata": {},
   "outputs": [],
   "source": []
  }
 ],
 "metadata": {
  "kernelspec": {
   "display_name": "Python 3 (ipykernel)",
   "language": "python",
   "name": "python3"
  },
  "language_info": {
   "codemirror_mode": {
    "name": "ipython",
    "version": 3
   },
   "file_extension": ".py",
   "mimetype": "text/x-python",
   "name": "python",
   "nbconvert_exporter": "python",
   "pygments_lexer": "ipython3",
   "version": "3.8.8"
  }
 },
 "nbformat": 4,
 "nbformat_minor": 5
}
